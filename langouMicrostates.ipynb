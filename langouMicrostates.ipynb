{
 "cells": [
  {
   "cell_type": "markdown",
   "source": [
    "# Information-theoretic analysis of EEG microstates in Python\n",
    "\n",
    "Our software is provided as a single Python source code file (eeg_microstates.py) that contains all functions necessary to:  \n",
    "* import EEG data in the '.edf' file format\n",
    "* pre-process (band-pass filter) the EEG data\n",
    "* compute microstate maps by the modified K-means algorithm [1]\n",
    "* compute microstate time series by competitively back-fitting the microstate maps into the EEG data\n",
    "* perform information-theoretical calculations we recently introduced [2]\n",
    "\n",
    "[1] Pascual-Marqui RD, Michel CM, Lehmann D. Segmentation of brain electrical activity into microstates: model estimation and validation. IEEE Trans Biomed Eng 42 (1995) 658–665.\n",
    "\n",
    "[2] von Wegner F, Tagliazucchi E, Laufs H. Information-theoretical analysis of resting state EEG microstate sequences - non-Markovianity, non-stationarity and periodicities. NeuroImage 158 (2017) 99–111.\n",
    "\n",
    "[3] von Wegner F, Laufs H. Information-theoretical analysis of EEG microstate sequences in Python. Front Neuroinformatics (2018) doi: 10.3389/fninf.2018.00030.\n",
    "\n",
    "[4] von Wegner F, Knaut P, Laufs H. EEG microstate sequences from different clustering algorithms are information-theoretically invariant. Front Comp Neurosci (2018) doi: 10.3389/fncom.2018.00070.\n",
    "\n",
    "\n",
    "### Github link of this project\n",
    "\n",
    "The current version of the software can be found on the [GitHub project page](https://github.com/Frederic-vW/eeg_microstates/).\n",
    "\n",
    "### Current literature about EEG microstates and information theory\n",
    "\n",
    "To find out about current publications and directions in microstate research, in particular related to information-theoretical approaches, we provide an active link to the PubMed page:  \n",
    "https://www.ncbi.nlm.nih.gov/pubmed/?term=eeg+microstates+information+theory\n",
    "\n",
    "## Background\n",
    "\n",
    "Electroencephalography (EEG) records the brain's electrical potential at discrete spatial sampling sites, defined by the locations of the electrodes on the skull. We also call the potential distribution at a given time a topography, or a map. The idea behind the microstate algorithm is to represent the EEG time series by a small number of maps that yield an optimum representation of the full data set. As in other areas of data compression, optimality can be defined in different ways. For EEG microstates, the criterion of choice is that of maximum explained variance. To this end, a (large) set of EEG samples is fed into a clustering algorithm whose output is a reduced set of representative EEG topographies, also called termed microstates, or microstate maps.  \n",
    "The EEG time series can then be represented by a sequence of microstate labels, where each time point of the original EEG data is mapped to the microstate with the maximum spatial correlation to the actual EEG topography. Polarity is usually ignored, so the squared correlation coefficient between each candidate microstate map and the EEG topography is used as a similarity measure.  \n",
    "With a set of representative microstates at hand, the multi-channel EEG data set can be compressed into a time series of symbols, i.e. microstate labels. Most frequently, four microstates are used to compress the EEG data set, and the microstates are labelled A, B, C, D. The EEG data set is therefore transformed into a microstate sequence that could read like ...AAABBDCDABBDAB...  \n",
    "Due to the special, non-metric nature of the new state space {A, B, C, D}, many common time-series methods such as the autocorrelation function cannot be applied to the microstate time series. We therefore test several entropy-based measures based on Shannon's information theory to quantify these time series.  \n",
    "\n",
    "The details of the procedure are given in the following sections and the whole procedure is illustrated in the figure below.  \n",
    "Step 1: The EEG data set is submitted to the modified K-means algorithm to obtain the microstate maps A-D. The figure below shows a section of resting state EEG for a selection of the 30 channels recorded. At each time point, the spatial standard deviation of the EEG topography is also called global field power (GFP, blue). Topographies at local maxima of the GFP time series (MAX, red dots) define the input to the modified K-means clustering algorithm.  \n",
    "Step 2: The microstate time series is computed by competitive back-fitting of the microstate maps into the EEG time series.  \n",
    "Step 3: Several information-theoretical tests are run on the microstate sequence and finally, the time-lagged mutual information function and a first-order Markov confidence interval are computed and displayed.  \n",
    "\n",
    "<img src=\"Figure_1.jpg\" width=800>"
   ],
   "metadata": {}
  },
  {
   "cell_type": "markdown",
   "source": [
    "## Import package\n",
    "\n",
    "In order to work with the package, the following import statement can be used in Python standalone scripts, e.g. for batch processing, or in any Python-based EEG software to add extra functionality:"
   ],
   "metadata": {}
  },
  {
   "cell_type": "code",
   "execution_count": null,
   "source": [
    "# Authors: Martin Luessi <mluessi@nmr.mgh.harvard.edu>\n",
    "#          Alexandre Gramfort <alexandre.gramfort@inria.fr>\n",
    "#          Nicolas P. Rougier (graph code borrowed from his matplotlib gallery)\n",
    "#\n",
    "# License: BSD (3-clause)\n",
    "\n",
    "import numpy as np\n",
    "import os.path as op\n",
    "import os\n",
    "import matplotlib.pyplot as plt\n",
    "from langouEEG import *\n",
    "from scipy.stats import *\n",
    "from eeg_microstates3 import *\n",
    "\n",
    "import mne\n",
    "import pickle\n",
    "from mne.datasets import sample\n",
    "from mne.minimum_norm import apply_inverse_epochs, read_inverse_operator\n",
    "from mne.connectivity import spectral_connectivity, envelope_correlation\n",
    "from mne.viz import circular_layout, plot_connectivity_circle\n",
    "import mne\n",
    "from mne.datasets import eegbci\n",
    "from mne.datasets import fetch_fsaverage\n",
    "from mne.datasets import sample\n",
    "from mne.minimum_norm import make_inverse_operator, apply_inverse\n",
    "from mne.minimum_norm import write_inverse_operator\n",
    "from mne.viz import plot_topomap\n",
    "\n",
    "import os\n",
    "import numpy as np\n",
    "import matplotlib.pyplot as plt\n",
    "import matplotlib\n",
    "matplotlib.use('Agg')\n",
    "from mpl_toolkits.mplot3d import Axes3D  # noqa\n",
    "import mne\n",
    "from lempel_ziv_complexity import lempel_ziv_complexity\n",
    "\n",
    "sample_data_folder = mne.datasets.sample.data_path()\n",
    "dataRoot = \"/data/home/viscent/Light\"\n",
    "# Download fsaverage files\n",
    "fs_dir = fetch_fsaverage(verbose=True)\n",
    "isMale = False\n",
    "isAll = True\n",
    "isBlind = False\n",
    "if not isAll:\n",
    "    result_dir = op.join(dataRoot,'result','male' if isMale else 'female')\n",
    "else:\n",
    "    result_dir = op.join(dataRoot,'result','all')\n",
    "if isBlind:\n",
    "    result_dir = op.join(result_dir,'Blind')\n",
    "subjects_dir = op.dirname(fs_dir)\n",
    "if not op.exists(result_dir):\n",
    "    os.mkdir(result_dir)\n",
    "# The files live in:\n",
    "subject = 'fsaverage'\n",
    "trans = 'fsaverage'  # MNE has a built-in fsaverage transformation\n",
    "src = op.join(fs_dir, 'bem', 'fsaverage-ico-5-src.fif')\n",
    "bem = op.join(fs_dir, 'bem', 'fsaverage-5120-5120-5120-bem-sol.fif')\n",
    "print(__doc__)"
   ],
   "outputs": [],
   "metadata": {}
  },
  {
   "cell_type": "markdown",
   "source": [
    "## (1) EEG data input"
   ],
   "metadata": {}
  },
  {
   "cell_type": "markdown",
   "source": [
    "The package contains a basic [EDF](http://www.edfplus.info/specs/edf.html) file format reader. EEG data is returned as a NumPy array with time running along the rows (first index) and channels across the columns (2nd index), i.e. the array shape is (n_samples, n_channels). If our code is interfaced with other Python programs, EEG data must be provided in that shape in order to be processed correctly by our package functions.  \n",
    "The return variables of the function read_edf are (1) a list of channel names, (2) the sampling rate in Hz, and (3) the EEG data in the mentioned format.  \n",
    "To run this tutorial, you must have the test.edf EEG file in your current folder. The file is part of the GitHub repository. The record contains 192 sec. from an eyes-closed resting state experiment of a healthy male subject recorded with a 30 channel EEG cap using a standard 10-10 electrode configuration. The sampling rate is 250 Hz and the data is band-pass filtered to the 1-40 Hz range."
   ],
   "metadata": {}
  },
  {
   "cell_type": "code",
   "execution_count": null,
   "source": [
    "# filename = \"test.edf\"\n",
    "# chs, fs, data_raw = read_edf(filename)\n",
    "epochs_4F = dict()\n",
    "epochs_RF = dict()\n",
    "epochs_4R = dict()\n",
    "epochs_RR = dict()\n",
    "for subject_name in range(1,21):\n",
    "    if not isAll:\n",
    "        if not (isMale ^ (subject_name in [7,8,11,17])):\n",
    "            continue\n",
    "    if subject_name<10:\n",
    "        subject_name='S0'+str(subject_name)\n",
    "    else:\n",
    "        subject_name='S'+str(subject_name)\n",
    "    with open(dataRoot+'/clean_data_av/'+subject_name+'_clean.lgeeg','rb') as f:\n",
    "        raw=pickle.load(f)\n",
    "    events, event_dict=extractEvents(raw)\n",
    "    picks = mne.pick_types(raw.info, meg=False, eeg=True, stim=False, eog=False,\n",
    "                        exclude='bads')\n",
    "    if isBlind:\n",
    "        epoch_RR,epoch_RF,epoch_4R,epoch_4F = extractEpochsBlind(raw,events,picks)\n",
    "    else:\n",
    "        epoch_RR,epoch_RF,epoch_4R,epoch_4F = extractEpochs(raw,events,picks)\n",
    "    epochs_4F[subject_name]=epoch_4F\n",
    "    epochs_RF[subject_name]=epoch_RF\n",
    "    epochs_RR[subject_name]=epoch_RR\n",
    "    epochs_4R[subject_name]=epoch_4R\n",
    "    if not op.exists(os.path.join(dataRoot,'fwd_solution.lgeeg')):\n",
    "        fwd = mne.make_forward_solution(raw.info, trans=trans, src=src,\n",
    "                                        bem=bem, eeg=True, mindist=5.0, n_jobs=1)\n",
    "        print(fwd)\n",
    "        mne.write_forward_solution(os.path.join(dataRoot,'fwd_solution.lgeeg'),fwd,overwrite=True)\n",
    "    else:\n",
    "        fwd = mne.read_forward_solution(os.path.join(dataRoot,'fwd_solution.lgeeg'))\n",
    "    data_path = sample.data_path()\n",
    "\n",
    "    picks = mne.pick_types(raw.info, meg=False, eeg=True, stim=False, eog=False,\n",
    "                        exclude='bads')"
   ],
   "outputs": [],
   "metadata": {}
  },
  {
   "cell_type": "code",
   "execution_count": null,
   "source": [
    "epoch_4F = mne.concatenate_epochs(list(epochs_4F.values()))\n",
    "epoch_RF = mne.concatenate_epochs(list(epochs_RF.values()))"
   ],
   "outputs": [],
   "metadata": {}
  },
  {
   "cell_type": "markdown",
   "source": [
    "## (2) Pre-processing"
   ],
   "metadata": {}
  },
  {
   "cell_type": "markdown",
   "source": [
    "EEG data is usually band-pass filtered before microstate clustering. The package contains a zero-phase 6-th order Butterworth band-pass filter as provided by SciPy. The input is (1) the data to be filtered as a NumPy array of shape (n_samples, n_channels), (2) a tuple defining the desired frequency band in Hz, and (3) the EEG sampling rate in Hz."
   ],
   "metadata": {}
  },
  {
   "cell_type": "code",
   "execution_count": null,
   "source": [
    "fname_prefix = result_dir + '/4F_microstate_'\n",
    "data_raw = np.hstack(epoch_4F.get_data()).T\n",
    "fs = 500\n",
    "data = bp_filter(data_raw, f_lo=1, f_hi=35, fs=fs)\n",
    "print(data.shape)\n",
    "pca = PCA(copy=True, n_components=1, whiten=False)\n",
    "pca1 = pca.fit_transform(data)[:,0]\n",
    "plot_data(pca1, fs)\n",
    "t0, t1 = 1000, 3000\n",
    "plot_data(pca1[t0:t1], fs)\n",
    "mode = [\"aahc\", \"kmeans\", \"kmedoids\", \"pca\", \"ica\"][1]\n",
    "print(f\"Clustering algorithm: {mode:s}\")\n",
    "n_maps = 4\n",
    "chs = 64\n",
    "locs = []\n",
    "maps, x, gfp_peaks, gev = clustering(data, fs, chs, locs, mode, n_maps, interpol=False, doplot=False)\n",
    "\n",
    "fig = plt.figure(dpi = 600)\n",
    "plot_topomap(maps[0],epoch_4F.info)\n",
    "fig.savefig(fname_prefix+'1_.png')\n",
    "fig.clf()\n",
    "fig = plt.figure(dpi = 600)\n",
    "plot_topomap(maps[1],epoch_4F.info)\n",
    "fig.savefig(fname_prefix+'2_.png')\n",
    "fig.clf()\n",
    "fig = plt.figure(dpi = 600)\n",
    "plot_topomap(maps[2],epoch_4F.info)\n",
    "fig.savefig(fname_prefix+'3_.png')\n",
    "fig.clf()\n",
    "fig = plt.figure(dpi = 600)\n",
    "plot_topomap(maps[3],epoch_4F.info)\n",
    "fig.savefig(fname_prefix+'4_.png')\n",
    "fig.clf()\n",
    "\n",
    "p_hat = p_empirical(x, n_maps)\n",
    "T_hat = T_empirical(x, n_maps)\n",
    "print(\"\\nEmpirical symbol distribution (RTT):\\n\")\n",
    "for i in range(n_maps):\n",
    "    print(f\"p_{i:d} = {p_hat[i]:.3f}\")\n",
    "print(\"\\nEmpirical transition matrix:\\n\")\n",
    "print_matrix(T_hat)\n",
    "pps = len(gfp_peaks) / (len(x)/fs)  # peaks per second\n",
    "print(f\"\\nGFP peaks per sec.: {pps:.2f}\")\n",
    "print(\"\\nGlobal explained variance (GEV) per map:\")\n",
    "for i, g in enumerate(gev): print(f\"GEV(ms-{i:d}) = {gev[i]:.2f}\")\n",
    "print(f\"\\ntotal GEV: {gev.sum():.3f}\")\n",
    "\n",
    "h_hat = H_1(x, n_maps)\n",
    "h_max = max_entropy(n_maps)\n",
    "print(f\"\\nEmpirical entropy H = {h_hat:.2f} (max. entropy: {h_max:.2f})\")\n",
    "\n",
    "h_rate, _ = excess_entropy_rate(x, n_maps, kmax=8, doplot=True)\n",
    "h_mc = mc_entropy_rate(p_hat, T_hat)\n",
    "print(f\"\\nEmpirical entropy rate h = {h_rate:.2f}\")\n",
    "print(f\"Theoretical MC entropy rate h = {h_mc:.2f}\")\n",
    "strx_4F = ''\n",
    "for a in x:\n",
    "    strx_4F += str(a)"
   ],
   "outputs": [],
   "metadata": {}
  },
  {
   "cell_type": "code",
   "execution_count": null,
   "source": [
    "fname_prefix = result_dir + '/RF_microstate_'\n",
    "data_raw = np.hstack(epoch_RF.get_data()).T\n",
    "fs = 500\n",
    "data = bp_filter(data_raw, f_lo=1, f_hi=35, fs=fs)\n",
    "print(data.shape)\n",
    "pca = PCA(copy=True, n_components=1, whiten=False)\n",
    "pca1 = pca.fit_transform(data)[:,0]\n",
    "plot_data(pca1, fs)\n",
    "t0, t1 = 1000, 3000\n",
    "plot_data(pca1[t0:t1], fs)\n",
    "mode = [\"aahc\", \"kmeans\", \"kmedoids\", \"pca\", \"ica\"][1]\n",
    "print(f\"Clustering algorithm: {mode:s}\")\n",
    "n_maps = 4\n",
    "chs = 64\n",
    "locs = []\n",
    "maps, x, gfp_peaks, gev = clustering(data, fs, chs, locs, mode, n_maps, interpol=False, doplot=False)\n",
    "\n",
    "\n",
    "fig = plt.figure(dpi = 600)\n",
    "plot_topomap(maps[0],epoch_4F.info)\n",
    "fig.savefig(fname_prefix+'1_.png')\n",
    "fig.clf()\n",
    "fig = plt.figure(dpi = 600)\n",
    "plot_topomap(maps[1],epoch_4F.info)\n",
    "fig.savefig(fname_prefix+'2_.png')\n",
    "fig.clf()\n",
    "fig = plt.figure(dpi = 600)\n",
    "plot_topomap(maps[2],epoch_4F.info)\n",
    "fig.savefig(fname_prefix+'3_.png')\n",
    "fig.clf()\n",
    "fig = plt.figure(dpi = 600)\n",
    "plot_topomap(maps[3],epoch_4F.info)\n",
    "fig.savefig(fname_prefix+'4_.png')\n",
    "fig.clf()\n",
    "\n",
    "p_hat = p_empirical(x, n_maps)\n",
    "T_hat = T_empirical(x, n_maps)\n",
    "print(\"\\nEmpirical symbol distribution (RTT):\\n\")\n",
    "for i in range(n_maps):\n",
    "    print(f\"p_{i:d} = {p_hat[i]:.3f}\")\n",
    "print(\"\\nEmpirical transition matrix:\\n\")\n",
    "print_matrix(T_hat)\n",
    "pps = len(gfp_peaks) / (len(x)/fs)  # peaks per second\n",
    "print(f\"\\nGFP peaks per sec.: {pps:.2f}\")\n",
    "print(\"\\nGlobal explained variance (GEV) per map:\")\n",
    "for i, g in enumerate(gev): print(f\"GEV(ms-{i:d}) = {gev[i]:.2f}\")\n",
    "print(f\"\\ntotal GEV: {gev.sum():.3f}\")\n",
    "\n",
    "h_hat = H_1(x, n_maps)\n",
    "h_max = max_entropy(n_maps)\n",
    "print(f\"\\nEmpirical entropy H = {h_hat:.2f} (max. entropy: {h_max:.2f})\")\n",
    "\n",
    "h_rate, _ = excess_entropy_rate(x, n_maps, kmax=8, doplot=True)\n",
    "h_mc = mc_entropy_rate(p_hat, T_hat)\n",
    "print(f\"\\nEmpirical entropy rate h = {h_rate:.2f}\")\n",
    "print(f\"Theoretical MC entropy rate h = {h_mc:.2f}\")\n",
    "strx_RF = ''\n",
    "for a in x:\n",
    "    strx_RF += str(a)"
   ],
   "outputs": [],
   "metadata": {}
  },
  {
   "cell_type": "code",
   "execution_count": null,
   "source": [
    "fname_prefix = result_dir + '/RR_microstate_'\n",
    "data_raw = np.hstack(epoch_RR.get_data()).T\n",
    "fs = 500\n",
    "data = bp_filter(data_raw, f_lo=1, f_hi=35, fs=fs)\n",
    "print(data.shape)\n",
    "pca = PCA(copy=True, n_components=1, whiten=False)\n",
    "pca1 = pca.fit_transform(data)[:,0]\n",
    "plot_data(pca1, fs)\n",
    "t0, t1 = 1000, 3000\n",
    "plot_data(pca1[t0:t1], fs)\n",
    "mode = [\"aahc\", \"kmeans\", \"kmedoids\", \"pca\", \"ica\"][1]\n",
    "print(f\"Clustering algorithm: {mode:s}\")\n",
    "n_maps = 4\n",
    "chs = 64\n",
    "locs = []\n",
    "maps, x, gfp_peaks, gev = clustering(data, fs, chs, locs, mode, n_maps, interpol=False, doplot=False)\n",
    "\n",
    "\n",
    "fig = plt.figure(dpi = 600)\n",
    "plot_topomap(maps[0],epoch_4F.info)\n",
    "fig.savefig(fname_prefix+'1_.png')\n",
    "fig.clf()\n",
    "fig = plt.figure(dpi = 600)\n",
    "plot_topomap(maps[1],epoch_4F.info)\n",
    "fig.savefig(fname_prefix+'2_.png')\n",
    "fig.clf()\n",
    "fig = plt.figure(dpi = 600)\n",
    "plot_topomap(maps[2],epoch_4F.info)\n",
    "fig.savefig(fname_prefix+'3_.png')\n",
    "fig.clf()\n",
    "fig = plt.figure(dpi = 600)\n",
    "plot_topomap(maps[3],epoch_4F.info)\n",
    "fig.savefig(fname_prefix+'4_.png')\n",
    "fig.clf()\n",
    "\n",
    "p_hat = p_empirical(x, n_maps)\n",
    "T_hat = T_empirical(x, n_maps)\n",
    "print(\"\\nEmpirical symbol distribution (RTT):\\n\")\n",
    "for i in range(n_maps):\n",
    "    print(f\"p_{i:d} = {p_hat[i]:.3f}\")\n",
    "print(\"\\nEmpirical transition matrix:\\n\")\n",
    "print_matrix(T_hat)\n",
    "pps = len(gfp_peaks) / (len(x)/fs)  # peaks per second\n",
    "print(f\"\\nGFP peaks per sec.: {pps:.2f}\")\n",
    "print(\"\\nGlobal explained variance (GEV) per map:\")\n",
    "for i, g in enumerate(gev): print(f\"GEV(ms-{i:d}) = {gev[i]:.2f}\")\n",
    "print(f\"\\ntotal GEV: {gev.sum():.3f}\")\n",
    "\n",
    "h_hat = H_1(x, n_maps)\n",
    "h_max = max_entropy(n_maps)\n",
    "print(f\"\\nEmpirical entropy H = {h_hat:.2f} (max. entropy: {h_max:.2f})\")\n",
    "\n",
    "h_rate, _ = excess_entropy_rate(x, n_maps, kmax=8, doplot=True)\n",
    "h_mc = mc_entropy_rate(p_hat, T_hat)\n",
    "print(f\"\\nEmpirical entropy rate h = {h_rate:.2f}\")\n",
    "print(f\"Theoretical MC entropy rate h = {h_mc:.2f}\")\n",
    "strx_RR = ''\n",
    "for a in x:\n",
    "    strx_RR += str(a)"
   ],
   "outputs": [],
   "metadata": {}
  },
  {
   "cell_type": "code",
   "execution_count": 16,
   "source": [
    "epochs_count = len(list(epochs_4F.values()))\n",
    "epoch_len = int(x.shape[0]/epochs_count)\n",
    "lzc_4F,lzc_RF,lzc_RR = [],[],[]\n",
    "lzc_4f = []\n",
    "print(strx_4F[0])\n",
    "for i in range(0,x.shape[0],epoch_len):\n",
    "    print(i+epoch_len)\n",
    "    lzc_4f.append(lempel_ziv_complexity(strx_4F[i:i+epoch_len]))\n",
    "    lzc_RF.append(lempel_ziv_complexity(strx_RF[i:i+epoch_len]))\n",
    "    lzc_RR.append(lempel_ziv_complexity(strx_RR[i:i+epoch_len]))"
   ],
   "outputs": [
    {
     "output_type": "stream",
     "name": "stdout",
     "text": [
      "1\n",
      "15003\n"
     ]
    }
   ],
   "metadata": {}
  },
  {
   "cell_type": "markdown",
   "source": [
    "## (3) Visualize data (PCA-1)"
   ],
   "metadata": {}
  },
  {
   "cell_type": "markdown",
   "source": [
    "A basic data visualization tool is provided to get an idea of the temporal structure of the EEG data set. We use principle component analysis as provided in the scikit-learn package and plot the time course of the first principal component to represent the dominant component of the data set. Using the test.edf file, we find amplitude modulated oscillations, mainly in the alpha frequency band (8-12), as expected in a wakeful resting condition."
   ],
   "metadata": {}
  },
  {
   "cell_type": "markdown",
   "source": [
    "Alternatively, only a segment of data can be visualized to better recognize alpha oscillations."
   ],
   "metadata": {}
  },
  {
   "cell_type": "markdown",
   "source": [
    "## (4) Clustering of the microstate maps"
   ],
   "metadata": {}
  },
  {
   "cell_type": "markdown",
   "source": [
    "We are now ready to apply the microstate clustering algorithm to the filtered data. We implemented five different clustering methods (AAHC, modified k-means, k-medoids, PCA, Fast-ICA), as detailed in [4].  \n",
    "Here, we will run the modified K-means algorithm as given by Pascual-Marqui [1], implemented as the function 'kmeans' in the eeg_microstates.py file [3]. The function variables should be self-explaining and are further documented in the source file following the PEP 8 styleguide.    \n",
    "As the initial microstate ordering returned by the stochastic K-means algorithm is random, we provide a tool to re-label the microstates interactively. The standard ordering follows the geometry of the maps. Map A has a diagonal direction connecting the upper (frontal) left and lower (occipital) right corners, map B is diagonal in the opposite direction, map C has a horizontal orientation and map D is often circular. Sometimes, slightly different maps are generated. We mostly observed the occurrence of a map D with a vertical axis instead of a circular pattern. In this case, you can either accept the results and proceed, or re-cluster the data set as the results of the K-means algorithm differ between runs.\n",
    "Modified K-means clustering and all information-theoretical computations can be run for any number of microstates. The desired number of microstates is given by the user as the argument 'n_maps' of the 'kmeans' function. If n_maps is not provided, the default value n_maps=4 is used."
   ],
   "metadata": {}
  },
  {
   "cell_type": "markdown",
   "source": [
    "You can also inspect the source code of the function:"
   ],
   "metadata": {}
  },
  {
   "cell_type": "markdown",
   "source": [
    "When the algorithm terminates, the global explained variance (GEV) of the computed microstate time series is shown. For the test file, the GEV should give approximately 0.73. In other words, the microstate sequence explains ca. 73% of the electrical potential's spatial variance over time.  \n",
    "\n",
    "The first return variable of the kmeans function is an array containing the microstate maps row-wise. The second return variable is the microstate sequence corresponding to the EEG data that was used as input. The sequence was generated as part of the kmeans optimizations by back-fitting into the EEG time series, and the sequence corresponding to the best K-means run is returned.  \n",
    "On this sequence all subsequent tests will be run. The sequence contains the microstate labels as numbers, $\\{A, B, C, D\\} \\rightarrow \\{0, 1, 2, 3\\}$, in order to accelerate information-theoretical computations. Using numbers, the microstate label can directly be used as an index in arrays and matrices. If you want to test microstate sequences generated by other another software, the sequence must be converted to numerical values $0, ..., n_{maps}-1$ before using the functions of this package."
   ],
   "metadata": {}
  },
  {
   "cell_type": "code",
   "execution_count": null,
   "source": [
    "fig, ax = plt.subplots(2, 1, figsize=(15,4), sharex=True)\n",
    "ax[0].plot(x[0:3000])\n",
    "ax[1].plot(pca1[0:3000])"
   ],
   "outputs": [],
   "metadata": {}
  },
  {
   "cell_type": "code",
   "execution_count": null,
   "source": [
    "epoch_4F.export(op.join(result_dir,'4F.set'))\n",
    "epoch_RF.export(op.join(result_dir,'RF.set'))"
   ],
   "outputs": [],
   "metadata": {}
  },
  {
   "cell_type": "markdown",
   "source": [
    "## (5) Basic microstate statistics"
   ],
   "metadata": {}
  },
  {
   "cell_type": "markdown",
   "source": [
    "We will now look at some basic statistical properties of the microstate sequence returned by the kmeans function. The empirical symbol distribution $\\hat{p}$ quantifies the relative frequency of each microstate map. It is equivalent to the so-called 'ratio of time covered' (RTT) used in some EEG microstate publications. The transition matrix $\\hat{T}$ contains the transition probabilities between all pairs of microstate labels. To get a feeling of the temporal dynamics of the EEG's spatial variance, we also compute the number of GFP peaks per second. The value is roughly 2 x the dominant EEG frequency band. In our case, the dominant frequency is a 10 Hz alpha rhythm and we observe approx. 21.5 GFP peaks per second."
   ],
   "metadata": {}
  },
  {
   "cell_type": "markdown",
   "source": [
    "## (6) Shannon entropy and entropy rate of the microstate sequence"
   ],
   "metadata": {}
  },
  {
   "cell_type": "markdown",
   "source": [
    "The information-theoretical characterization of the microstate time series starts with the calculation of the empirical Shannon entropy $\\hat{H}$ of the sequence:"
   ],
   "metadata": {}
  },
  {
   "cell_type": "markdown",
   "source": [
    "$$\n",
    "\\begin{align}\n",
    "\\hat{H} & = -\\sum_i \\hat{p}(i) \\log \\hat{p}(i)\n",
    "\\end{align}\n",
    "$$"
   ],
   "metadata": {}
  },
  {
   "cell_type": "markdown",
   "source": [
    "where the index $i$ runs over the microstate labels. The base of the logarithm is not important. We use the natural logarithm to the base $e$ (Euler's number) and therefore measure information in 'nats', in analogy to bits when using $\\log_2$."
   ],
   "metadata": {}
  },
  {
   "cell_type": "markdown",
   "source": [
    "The maximum entropy possible for any sequence composed of four symbols is $\\log(4) \\approx 1.39$, and the minimum entropy is zero. We see that the test sequence almost achieves the maximum entropy. As entropy can be interpreted as the amount of surprise or randomness, this result suggests a lack of predictable temporal features in the microstate sequence. However, we will show that the sequence does contain temporal structure, mainly in the form of periodicities in the range of the main EEG frequency bands."
   ],
   "metadata": {}
  },
  {
   "cell_type": "markdown",
   "source": [
    "Next, the entropy rate of the sequence is estimated from a set of joint Shannon entropies $H_k=H(\\mathbf{X}_{n}^{(k)})$ for different history lengths $k$. The estimated entropy rate is the slope of the linear fit $k$ vs. $H_k$. The intercept is the so-called excess entropy, which is not further investigated here."
   ],
   "metadata": {}
  },
  {
   "cell_type": "markdown",
   "source": [
    "## (7) Markov tests"
   ],
   "metadata": {}
  },
  {
   "cell_type": "markdown",
   "source": [
    "We will first test the Markov properties of order 0, 1 and 2 for the EEG test file. For the details of the testing procedure, see the attached manuscript and the code documentation in the source file."
   ],
   "metadata": {}
  },
  {
   "cell_type": "code",
   "execution_count": null,
   "source": [
    "# alpha = 0.01\n",
    "# p_M0 = testMarkov0(x, n_maps, alpha)\n",
    "# p_M1 = testMarkov1(x, n_maps, alpha)\n",
    "# p_M2 = testMarkov2(x, n_maps, alpha)\n",
    "# p_vals_geo = geoTest(x, n_maps, 1000./fs, alpha)"
   ],
   "outputs": [],
   "metadata": {}
  },
  {
   "cell_type": "markdown",
   "source": [
    "The statistical Markovianity test show that our test sequence does not have the Markov property of the tested orders. This means that there are memory effects in the series which we will further explore."
   ],
   "metadata": {}
  },
  {
   "cell_type": "markdown",
   "source": [
    "## (8) Stationarity test"
   ],
   "metadata": {}
  },
  {
   "cell_type": "markdown",
   "source": [
    "Next, we will test if the transition matrix $\\hat{T}$ is time-stationary or if the matrix elements change significantly over time. You can provide a specific window length L for testing or use the default value of 5000 samples."
   ],
   "metadata": {}
  },
  {
   "cell_type": "code",
   "execution_count": null,
   "source": [
    "# try:\n",
    "#     L = int(input(\"Enter block size: \"))\n",
    "# except:\n",
    "#     L = 5000\n",
    "# p3 = conditionalHomogeneityTest(x, n_maps, L, alpha)"
   ],
   "outputs": [],
   "metadata": {}
  },
  {
   "cell_type": "markdown",
   "source": [
    "We find that the given transition matrix is not time-stationary."
   ],
   "metadata": {}
  },
  {
   "cell_type": "markdown",
   "source": [
    "## (9) Symmetry test"
   ],
   "metadata": {}
  },
  {
   "cell_type": "markdown",
   "source": [
    "We will now test if the transition matrix is symmetric. In other words, we test if the transitions $A \\rightarrow B$ and $B \\rightarrow A$ occur with the same probability or not."
   ],
   "metadata": {}
  },
  {
   "cell_type": "code",
   "execution_count": null,
   "source": [
    "# p4 = symmetryTest(x, n_maps, alpha)"
   ],
   "outputs": [],
   "metadata": {}
  },
  {
   "cell_type": "markdown",
   "source": [
    "The transition matrix of the test microstate sequence is not symmetric."
   ],
   "metadata": {}
  },
  {
   "cell_type": "markdown",
   "source": [
    "## (10) Markov surrogate example"
   ],
   "metadata": {}
  },
  {
   "cell_type": "markdown",
   "source": [
    "To test our statistical procedures and to construct surrogate data sets from which confidence intervals for further information-theoretical quantities can be computed, we will synthesize first-order Markov chains with symbol distribution and transition matrix identical to the experimental EEG data set. This is possible because a first-order Markov chain is completely defined by an initial symbol distribution and a transition matrix for first-order (single time step) transitions."
   ],
   "metadata": {}
  },
  {
   "cell_type": "code",
   "execution_count": null,
   "source": [
    "# x_mc = surrogate_mc(p_hat, T_hat, n_maps, len(x))\n",
    "# p_surr = p_empirical(x_mc, n_maps)\n",
    "# T_surr = T_empirical(x_mc, n_maps)\n",
    "# print(\"\\nSurrogate symbol distribution:\\n\")\n",
    "# for i in range(n_maps):\n",
    "#     print(f\"p_{i:d} = {p_surr[i]:.3f}\")\n",
    "# print( \"\\nSurrogate transition matrix:\\n\" )\n",
    "# print_matrix(T_surr)"
   ],
   "outputs": [],
   "metadata": {}
  },
  {
   "cell_type": "markdown",
   "source": [
    "We observe that the symbol distribution and the transition matrix are equivalent, within some stochastic margin, to the experimental data. A quantitative analysis of Markov surrogate errors is contained in [2]."
   ],
   "metadata": {}
  },
  {
   "cell_type": "markdown",
   "source": [
    "## (11) Markov tests for surrogate Markov data"
   ],
   "metadata": {}
  },
  {
   "cell_type": "markdown",
   "source": [
    "It will now be shown that the Markov surrogates fulfill the expected properties, or vice versa, that our Markovianity and stationarity tests work well with our surrogate data. This means that we can analyze experimental data series to find memory effects beyond a first-order Markov model."
   ],
   "metadata": {}
  },
  {
   "cell_type": "code",
   "execution_count": null,
   "source": [
    "# p_M0_mc = testMarkov0(x_mc, n_maps, alpha)\n",
    "# p_M1_mc = testMarkov1(x_mc, n_maps, alpha)\n",
    "# p_M2_mc = testMarkov2(x_mc, n_maps, alpha)\n",
    "# p_vals_geo_mc = geoTest(x_mc, n_maps, 1000./fs, alpha)"
   ],
   "outputs": [],
   "metadata": {}
  },
  {
   "cell_type": "markdown",
   "source": [
    "The Markov surrogate clearly fulfills the expected theoretical properties. The zero-order Markov hypothesis is rejected while the first-order and second-order properties are accepted. The theoretically equivalent, but numerically different test for geometric lifetime distributions asserts the geometric lifetime distribution of all microstate maps."
   ],
   "metadata": {}
  },
  {
   "cell_type": "markdown",
   "source": [
    "## (12) Stationarity test for surrogate Markov data"
   ],
   "metadata": {}
  },
  {
   "cell_type": "markdown",
   "source": [
    "We expect the Markov surrogate to be time-stationary as the same transition matrix has been used to generate the entire sequence. The test results show that indeed, the Markov surrogate is correctly classified as time-stationary. This means that we can identify non-stationarity in experimental data sets statistically."
   ],
   "metadata": {}
  },
  {
   "cell_type": "code",
   "execution_count": null,
   "source": [
    "# try:\n",
    "#     L = int(input(\"Enter block size: \"))\n",
    "# except:\n",
    "#     L = 5000\n",
    "# p3_mc = conditionalHomogeneityTest(x_mc, n_maps, L, alpha)"
   ],
   "outputs": [],
   "metadata": {}
  },
  {
   "cell_type": "markdown",
   "source": [
    "## (13) Symmetry test for surrogate Markov data"
   ],
   "metadata": {}
  },
  {
   "cell_type": "markdown",
   "source": [
    "As the experimental EEG transtion matrix is used to generate the Markov surrogate, the surrogate's transition matrix is also asymmetric."
   ],
   "metadata": {}
  },
  {
   "cell_type": "code",
   "execution_count": null,
   "source": [
    "# p4_mc = symmetryTest(x_mc, n_maps, alpha)"
   ],
   "outputs": [],
   "metadata": {}
  },
  {
   "cell_type": "markdown",
   "source": [
    "## (14) Time-lagged mutual information: empirical vs. Markov"
   ],
   "metadata": {}
  },
  {
   "cell_type": "markdown",
   "source": [
    "Mutual information for time lag k, $I(k)$, is defined as the difference between the entropy (uncertainty) of the microstate sequence at time point $t+k$, and the conditional entropy at time point $t+k$ given the state at time $t$. Mutual information thus quantifies the uncertainty about the state at $t+k$ that is not represented by the previous time point $t$."
   ],
   "metadata": {}
  },
  {
   "cell_type": "markdown",
   "source": [
    "$$\n",
    "\\begin{align}\n",
    "I(k) & = H(X_{t+k}) - H(X_{t+k} \\mid X_k)\n",
    "\\end{align}\n",
    "$$"
   ],
   "metadata": {}
  },
  {
   "cell_type": "markdown",
   "source": [
    "As an analogy to the autocorrelation function (ACF) for metric time series, we will call this information-theoretic quantity the autoinformation function (AIF). Whilte the ACF uses linear correlation as a dependency measure for metric time series, the AIF uses mutual information to quantify dependencies in symbolic sequences.  \n",
    "We can now compute the time-lagged mutual information function of the microstate sequence and compare it to a set of Markov surrogates, from which a confidence interval under the first-order Markovian null hypothesis is constructed. We here use 10 Markov surrogates and compute the two-sided 99% percentile.  "
   ],
   "metadata": {}
  },
  {
   "cell_type": "code",
   "execution_count": null,
   "source": [
    "# l_max = 100\n",
    "# n_mc = 10\n",
    "# aif = mutinf(x, n_maps, l_max)\n",
    "# print(f\"\\nComputing n = {n_mc:d} Markov surrogates...\\n\")\n",
    "# aif_array = mutinf_CI(p_hat, T_hat, len(x), alpha, n_mc, l_max)\n",
    "# pct = np.percentile(aif_array,[100.*alpha/2.,100.*(1-alpha/2.)],axis=0)\n",
    "# print(\"\\nMarkov surrogates and AIF confidence interval computed\")"
   ],
   "outputs": [],
   "metadata": {}
  },
  {
   "cell_type": "code",
   "execution_count": null,
   "source": [
    "# plt.ioff()\n",
    "# fig = plt.figure(1, figsize=(20,5))\n",
    "# fig.patch.set_facecolor('white')\n",
    "# t = np.arange(l_max)*1000./fs\n",
    "# plt.semilogy(t, aif, '-sk', linewidth=3, label='AIF (EEG)')\n",
    "# plt.semilogy(t, pct[0,:], '-k', linewidth=1)\n",
    "# plt.semilogy(t, pct[1,:], '-k', linewidth=1)\n",
    "# plt.fill_between(t, pct[0,:], pct[1,:], facecolor='gray', alpha=0.5, label='AIF (Markov)')\n",
    "# plt.xlabel(\"time lag [ms]\", fontsize=20, fontweight=\"bold\")\n",
    "# plt.ylabel(\"AIF [nats]\", fontsize=20, fontweight=\"bold\")\n",
    "# plt.legend(fontsize=22)\n",
    "# ax = plt.gca()\n",
    "# ax.tick_params(axis='both', labelsize=18)\n",
    "# plt.tight_layout()\n",
    "# plt.show()"
   ],
   "outputs": [],
   "metadata": {}
  },
  {
   "cell_type": "markdown",
   "source": [
    "The figure generated by the code above shows the autoinformation function (AIF) along with Markovian confidence intervals. The AIF summarizes memory effects in the test microstate sequence as identified by mutual information. It is observed that the AIF of experimental data (black line and squares) shows clear periodicities and comparison with the Markovian confidence interval (gray-shaded area) shows that these peaks are statistically significant.  \n",
    "We can thus show that EEG microstates recur in a regular way. In other words, the microstate sequences passes through the graph of state transitions in a circular way. The transitions do not do so in a completely deterministic way, as any state transition is possible at any time, but we show that there are preferred closed paths along the state transition graph."
   ],
   "metadata": {}
  },
  {
   "cell_type": "markdown",
   "source": [
    "## (15) Summary and reporting results"
   ],
   "metadata": {}
  },
  {
   "cell_type": "markdown",
   "source": [
    "The results can be summarized for scientific reporting as follows. Please note that *fixed numerical values are shown here*, i.e. the results of a specifc run of the algorithm. As clustering results vary slightly between runs, the exact numerical values may differ from the results obtained above.\n",
    "\n",
    "1. We analyzed 192 seconds of resting state EEG sampled at 250 Hz. The 1-35 Hz band-pass filtered data set showed  21.51 GFP peaks per second and was clustered into 4 microstates, labelled A-D.\n",
    "\n",
    "2. Static properties:\n",
    "    * The microstate distribution was $p(A)=0.222$, $p(B)=0.240$, $p(C)=0.264$, and $p(D)=0.275$.\n",
    "    * The four microstates explained 69% of the total data variance (GEV).\n",
    "    * In information-theoretical terms, the four microstates produced a Shannon entropy of $H=1.38$ nats, where the upper bound for a 4-state process is $H_{max}=1.39$ nats. The empirical entropy rate was $h=0.73$ nats, and the expected value for the analogous first-order Markov process is $h=0.76$ nats.\n",
    "\n",
    "3. Dynamic properties:\n",
    "    * The transition probabilities between all pairs of microstates are summarized in the transition matrix T:\n",
    "    \\begin{equation*}\n",
    "    T =  \\begin{vmatrix}\n",
    "    0.771 & 0.094 & 0.058 & 0.076 \\\\\n",
    "\t0.063 & 0.769 & 0.112 & 0.056 \\\\\n",
    "\t0.063 & 0.055 & 0.786 & 0.096 \\\\\n",
    "\t0.070 & 0.072 & 0.061 & 0.797 \\\\\n",
    "    \\end{vmatrix}\n",
    "    \\end{equation*}\n",
    "    * The transition matrix T proved to be asymmetric ($p \\lt 10^{-80}$).\n",
    "\n",
    "4. Information-theoretical properties. Using a significance level of $\\alpha = 0.01$, we found that:\n",
    "    * The microstate sequence does not fulfill the Markov property of order 0, 1, or 2. We conclude that the microstate sequence has extended memory effects.\n",
    "    * During the EEG recording, the transition matrix of the microstate sequence is not constant (it is non-stationary), when tested for a partition into 9 blocks and 5000 samples per block ($p=3.37 \\times 10^{-6}$). This result should be taken as a precaution when using methods that require time stationarity (e.g. long-range memory interpretations of Hurst exponents).\n",
    "    * Non-Markovianity and non-stationarity are at least partially explained by a periodic recurrence of the microstates, as shown by the time-lagged mutual information function (or autoinformation function, AIF). For time lags up to 400 msec., the EEG's AIF lies above the (first-order) Markov confidence interval and shows distinct peaks at multiples of approx. 50 msec (half the period of the underlying alpha rhythm).\n"
   ],
   "metadata": {}
  },
  {
   "cell_type": "markdown",
   "source": [
    "### Code acceleration"
   ],
   "metadata": {}
  },
  {
   "cell_type": "markdown",
   "source": [
    "If you ran the code above on your computer, you will have noticed that the AIF calculation determines the computation time of the procedure. The code can be accelerated using Cython, Numba or an external Julia function, for instance. To maximize portability and minimize the number of operating system dependencies, we did not include these accelerations in the code. However, the mentioned methods are implemented with little effort. Accelerated code can also be obtained from the author.\n",
    "The eeg_microstates.py script can be run from the console using the -mc parameter that defines the number of Markov surrogates. The number of surrogates will define the width and smoothness of the confidence interval. Empirically, we suggest a minimum number of 50-100 surrogates."
   ],
   "metadata": {}
  },
  {
   "cell_type": "markdown",
   "source": [
    "## Conclusions"
   ],
   "metadata": {}
  },
  {
   "cell_type": "markdown",
   "source": [
    "If you have arrived here, you should have completed the tutorial successfully. You should be familiar with the functionality provided by this software and have a good impression how to process larger data sets to obtain group statistics."
   ],
   "metadata": {}
  }
 ],
 "metadata": {
  "kernelspec": {
   "name": "python3",
   "display_name": "Python 3.9.5 64-bit ('mne': conda)"
  },
  "language_info": {
   "name": "python",
   "version": "3.9.5",
   "mimetype": "text/x-python",
   "codemirror_mode": {
    "name": "ipython",
    "version": 3
   },
   "pygments_lexer": "ipython3",
   "nbconvert_exporter": "python",
   "file_extension": ".py"
  },
  "varInspector": {
   "cols": {
    "lenName": 16,
    "lenType": 16,
    "lenVar": 40
   },
   "kernels_config": {
    "python": {
     "delete_cmd_postfix": "",
     "delete_cmd_prefix": "del ",
     "library": "var_list.py",
     "varRefreshCmd": "print(var_dic_list())"
    },
    "r": {
     "delete_cmd_postfix": ") ",
     "delete_cmd_prefix": "rm(",
     "library": "var_list.r",
     "varRefreshCmd": "cat(var_dic_list()) "
    }
   },
   "types_to_exclude": [
    "module",
    "function",
    "builtin_function_or_method",
    "instance",
    "_Feature"
   ],
   "window_display": false
  },
  "interpreter": {
   "hash": "e3970cf2a056ed71c6703e76baeca137440641ad1b48b7e7a1b0e3e35696df1b"
  }
 },
 "nbformat": 4,
 "nbformat_minor": 4
}