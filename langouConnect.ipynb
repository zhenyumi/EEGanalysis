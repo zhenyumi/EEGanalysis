{
  "cells": [
    {
      "cell_type": "code",
      "execution_count": null,
      "metadata": {
        "collapsed": false
      },
      "outputs": [],
      "source": [
        "%matplotlib inline"
      ]
    },
    {
      "cell_type": "markdown",
      "metadata": {},
      "source": [
        "\n",
        "# Compute source space connectivity and visualize it using a circular graph\n",
        "\n",
        "This example computes the all-to-all connectivity between 68 regions in\n",
        "source space based on dSPM inverse solutions and a FreeSurfer cortical\n",
        "parcellation. The connectivity is visualized using a circular graph which\n",
        "is ordered based on the locations of the regions in the axial plane.\n"
      ]
    },
    {
      "cell_type": "code",
      "execution_count": null,
      "metadata": {
        "collapsed": false
      },
      "outputs": [],
      "source": [
        "# Authors: Martin Luessi <mluessi@nmr.mgh.harvard.edu>\n",
        "#          Alexandre Gramfort <alexandre.gramfort@inria.fr>\n",
        "#          Nicolas P. Rougier (graph code borrowed from his matplotlib gallery)\n",
        "#\n",
        "# License: BSD (3-clause)\n",
        "\n",
        "import numpy as np\n",
        "import os.path as op\n",
        "import os\n",
        "import matplotlib.pyplot as plt\n",
        "from langouEEG import *\n",
        "\n",
        "import mne\n",
        "import pickle\n",
        "from mne.datasets import sample\n",
        "from mne.minimum_norm import apply_inverse_epochs, read_inverse_operator\n",
        "from mne.connectivity import spectral_connectivity\n",
        "from mne.viz import circular_layout, plot_connectivity_circle\n",
        "import mne\n",
        "from mne.datasets import eegbci\n",
        "from mne.datasets import fetch_fsaverage\n",
        "from mne.datasets import sample\n",
        "from mne.minimum_norm import make_inverse_operator, apply_inverse\n",
        "from mne.minimum_norm import write_inverse_operator\n",
        "dataRoot = \"/data/home/viscent/Light\"\n",
        "# Download fsaverage files\n",
        "fs_dir = fetch_fsaverage(verbose=True)\n",
        "result_dir = op.join(dataRoot,'result','female')\n",
        "subjects_dir = op.dirname(fs_dir)\n",
        "\n",
        "# The files live in:\n",
        "subject = 'fsaverage'\n",
        "trans = 'fsaverage'  # MNE has a built-in fsaverage transformation\n",
        "src = op.join(fs_dir, 'bem', 'fsaverage-ico-5-src.fif')\n",
        "bem = op.join(fs_dir, 'bem', 'fsaverage-5120-5120-5120-bem-sol.fif')\n",
        "print(__doc__)"
      ]
    },
    {
      "cell_type": "code",
      "execution_count": null,
      "metadata": {},
      "outputs": [],
      "source": [
        "epochs_4F = []\n",
        "epochs_RF = []\n",
        "for subject_name in range(1,21):\n",
        "    if not subject_name in [7,8,11,17]:\n",
        "        continue\n",
        "    if subject_name<10:\n",
        "        subject_name='S0'+str(subject_name)\n",
        "    else:\n",
        "        subject_name='S'+str(subject_name)\n",
        "    with open(dataRoot+'/clean_data/'+subject_name+'_clean.lgeeg','rb') as f:\n",
        "        raw=pickle.load(f)\n",
        "    raw.set_channel_types({'Trigger':'stim','VEO':'eog'})\n",
        "    raw.set_eeg_reference(projection=True)\n",
        "    events, event_dict=extractEvents(raw)\n",
        "    picks = mne.pick_types(raw.info, meg=False, eeg=True, stim=False, eog=True,\n",
        "                        exclude='bads')\n",
        "    epoch_RR,epoch_RF,epoch_4R,epoch_4F = extractEpochs(raw,events,picks)\n",
        "    epochs_4F.append(epoch_4F)\n",
        "    epochs_RF.append(epoch_RF)\n",
        "epochs_4F = mne.concatenate_epochs(epochs_4F)\n",
        "epochs_RF = mne.concatenate_epochs(epochs_RF)"
      ]
    },
    {
      "cell_type": "markdown",
      "metadata": {},
      "source": [
        "## Load our data\n",
        "\n",
        "First we'll load the data we'll use in connectivity estimation. We'll use\n",
        "the sample MEG data provided with MNE.\n",
        "\n"
      ]
    },
    {
      "cell_type": "code",
      "execution_count": null,
      "metadata": {},
      "outputs": [],
      "source": [
        "subject_name='S15'\n",
        "with open(dataRoot+'/clean_data/'+subject_name+'_clean.lgeeg','rb') as f:\n",
        "    raw=pickle.load(f)\n",
        "raw.set_channel_types({'Trigger':'stim','VEO':'eog'})\n",
        "raw.set_eeg_reference(projection=True)\n",
        "events, event_dict=extractEvents(raw)\n",
        "if not op.exists(os.path.join(dataRoot,'fwd_solutions',subject_name+'_fwd.lgeeg')):\n",
        "    fwd = mne.make_forward_solution(raw.info, trans=trans, src=src,\n",
        "                                    bem=bem, eeg=True, mindist=5.0, n_jobs=1)\n",
        "    print(fwd)\n",
        "    mne.write_forward_solution(os.path.join(dataRoot,'fwd_solutions',subject_name+'_fwd.lgeeg'),fwd,overwrite=True)\n",
        "else:\n",
        "    fwd = mne.read_forward_solution(os.path.join(dataRoot,'fwd_solutions',subject_name+'_fwd.lgeeg'))\n"
      ]
    },
    {
      "cell_type": "code",
      "execution_count": null,
      "metadata": {
        "collapsed": false
      },
      "outputs": [],
      "source": [
        "data_path = sample.data_path()\n",
        "# subjects_dir = data_path + '/subjects'\n",
        "fname_inv = os.path.join(dataRoot,'inv_operators',subject_name+'_inv.lgeeg')\n",
        "# subject = 'sample'\n",
        "# fname_raw = data_path + '/MEG/sample/sample_audvis_filt-0-40_raw.fif'\n",
        "# fname_event = data_path + '/MEG/sample/sample_audvis_filt-0-40_raw-eve.fif'\n",
        "\n",
        "\n",
        "# Pick MEG channels\n",
        "picks = mne.pick_types(raw.info, meg=False, eeg=True, stim=False, eog=True,\n",
        "                       exclude='bads')\n",
        "\n",
        "epoch_RR,epoch_RF,epoch_4R,epoch_4F = extractEpochs(raw,events,picks)\n",
        "# evoked_4F = epoch_4F.average().pick('eeg')\n",
        "# Define epochs for left-auditory condition\n",
        "# event_id, tmin, tmax = 1, -0.2, 0.5\n",
        "# epochs = mne.Epochs(raw, events, event_id, tmin, tmax, picks=picks,\n",
        "                    # baseline=(None, 0), reject=dict(mag=4e-12, grad=4000e-13,\n",
        "                    #                                 eog=150e-6))\n",
        "\n",
        "\n",
        "noise_cov = mne.compute_covariance(\n",
        "    epoch_RR, tmax=80., method=['shrunk', 'empirical'], rank=None, verbose=True)\n",
        "inverse_operator = make_inverse_operator(\n",
        "    epochs_4F.info, fwd, noise_cov, loose=0.2, depth=0.8)\n",
        "if not os.path.exists(fname_inv):  \n",
        "    write_inverse_operator(os.path.join(dataRoot,'inv_operators',subject_name+'_inv.lgeeg'),inverse_operator)\n",
        "else:   \n",
        "# Load data\n",
        "    inverse_operator = read_inverse_operator(fname_inv)\n",
        "# raw = mne.io.read_raw_fif(fname_raw)\n",
        "# events = mne.read_events(fname_event)"
      ]
    },
    {
      "cell_type": "markdown",
      "metadata": {},
      "source": [
        "## Compute inverse solutions and their connectivity\n",
        "\n",
        "Next, we need to compute the inverse solution for this data. This will return\n",
        "the sources / source activity that we'll use in computing connectivity. We'll\n",
        "compute the connectivity in the alpha band of these sources. We can specify\n",
        "particular frequencies to include in the connectivity with the ``fmin`` and\n",
        "``fmax`` flags. Notice from the status messages how mne-python:\n",
        "\n",
        "1. reads an epoch from the raw file\n",
        "2. applies SSP and baseline correction\n",
        "3. computes the inverse to obtain a source estimate\n",
        "4. averages the source estimate to obtain a time series for each label\n",
        "5. includes the label time series in the connectivity computation\n",
        "6. moves to the next epoch.\n",
        "\n",
        "This behaviour is because we are using generators. Since we only need to\n",
        "operate on the data one epoch at a time, using a generator allows us to\n",
        "compute connectivity in a computationally efficient manner where the amount\n",
        "of memory (RAM) needed is independent from the number of epochs.\n",
        "\n"
      ]
    },
    {
      "cell_type": "code",
      "execution_count": null,
      "metadata": {
        "collapsed": false
      },
      "outputs": [],
      "source": [
        "# Compute inverse solution and for each epoch. By using \"return_generator=True\"\n",
        "# stcs will be a generator object instead of a list.\n",
        "\n",
        "snr = 1.0  # use lower SNR for single epochs\n",
        "lambda2 = 1.0 / snr ** 2\n",
        "method = \"dSPM\"  # use dSPM method (could also be MNE or sLORETA)\n",
        "stcs = apply_inverse_epochs(epochs_4F, inverse_operator, lambda2, method,\n",
        "                            pick_ori=\"normal\", return_generator=True)\n",
        "\n",
        "# Get labels for FreeSurfer 'aparc' cortical parcellation with 34 labels/hemi\n",
        "labels = mne.read_labels_from_annot('fsaverage', parc='aparc',\n",
        "                                    subjects_dir=subjects_dir)[:68]\n",
        "label_colors = [label.color for label in labels]\n",
        "\n",
        "# Average the source estimates within each label using sign-flips to reduce\n",
        "# signal cancellations, also here we return a generator\n",
        "src = inverse_operator['src']\n",
        "label_ts = mne.extract_label_time_course(\n",
        "    stcs, labels,  src,allow_empty=False, mode='mean_flip', return_generator=True)\n",
        "\n",
        "fmin = 8.\n",
        "fmax = 13.\n",
        "sfreq = raw.info['sfreq']  # the sampling frequency\n",
        "con_methods = ['pli', 'wpli2_debiased', 'ciplv']\n",
        "if not op.exists(op.join(dataRoot,'cons','40_con_f.lgeeg')):\n",
        "    con, freqs, times, n_epochs, n_tapers = spectral_connectivity(\n",
        "        label_ts, method=con_methods, mode='multitaper', sfreq=sfreq, fmin=fmin,\n",
        "        fmax=fmax, faverage=True, mt_adaptive=True, n_jobs=1)\n",
        "    with open(op.join(dataRoot,'cons','40_con_f.lgeeg'),'wb') as f:\n",
        "        pickle.dump(con,f)\n",
        "else:\n",
        "    with open(op.join(dataRoot,'cons','40_con_f.lgeeg'),'rb') as f:\n",
        "        con = pickle.load(f)\n",
        "con_res_40 = dict()\n",
        "for method, c in zip(con_methods, con):\n",
        "    con_res_40[method] = c[:, :, 0]\n",
        "\n",
        "lambda2 = 1.0 / snr ** 2\n",
        "method = \"dSPM\"  # use dSPM method (could also be MNE or sLORETA)\n",
        "stcs = apply_inverse_epochs(epochs_RF, inverse_operator, lambda2, method,\n",
        "                            pick_ori=\"normal\", return_generator=True)\n",
        "label_ts = mne.extract_label_time_course(\n",
        "    stcs, labels,  src,allow_empty=False, mode='mean_flip', return_generator=True)\n",
        "if not op.exists(op.join(dataRoot,'cons','rand_con_f.lgeeg')):\n",
        "    con, freqs, times, n_epochs, n_tapers = spectral_connectivity(\n",
        "        label_ts, method=con_methods, mode='multitaper', sfreq=sfreq, fmin=fmin,\n",
        "        fmax=fmax, faverage=True, mt_adaptive=True, n_jobs=1)\n",
        "    with open(op.join(dataRoot,'cons','rand_con_f.lgeeg'),'wb') as f:\n",
        "        pickle.dump(con,f)\n",
        "else:\n",
        "    with open(op.join(dataRoot,'cons','rand_con_f.lgeeg'),'rb') as f:\n",
        "        con = pickle.load(f)\n",
        "# con is a 3D array, get the connectivity for the first (and only) freq. band\n",
        "# for each method\n",
        "con_res_rand = dict()\n",
        "for method, c in zip(con_methods, con):\n",
        "    con_res_rand[method] = c[:, :, 0]"
      ]
    },
    {
      "cell_type": "markdown",
      "metadata": {},
      "source": [
        "## Make a connectivity plot\n",
        "\n",
        "Now, we visualize this connectivity using a circular graph layout.\n",
        "\n"
      ]
    },
    {
      "cell_type": "code",
      "execution_count": null,
      "metadata": {
        "collapsed": false
      },
      "outputs": [],
      "source": [
        "# First, we reorder the labels based on their location in the left hemi\n",
        "label_names = [label.name for label in labels]\n",
        "\n",
        "lh_labels = [name for name in label_names if name.endswith('lh')]\n",
        "\n",
        "# Get the y-location of the label\n",
        "label_ypos = list()\n",
        "for name in lh_labels:\n",
        "    idx = label_names.index(name)\n",
        "    ypos = np.mean(labels[idx].pos[:, 1])\n",
        "    label_ypos.append(ypos)\n",
        "\n",
        "# Reorder the labels based on their location\n",
        "lh_labels = [label for (yp, label) in sorted(zip(label_ypos, lh_labels))]\n",
        "\n",
        "# For the right hemi\n",
        "rh_labels = [label[:-2] + 'rh' for label in lh_labels]\n",
        "\n",
        "# Save the plot order and create a circular layout\n",
        "node_order = list()\n",
        "node_order.extend(lh_labels[::-1])  # reverse the order\n",
        "node_order.extend(rh_labels)\n",
        "# node_order = node_order[:69]\n",
        "\n",
        "node_angles = circular_layout(label_names, node_order, start_pos=90,\n",
        "                              group_boundaries=[0, len(label_names) / 2])\n",
        "\n",
        "# Plot the graph using node colors from the FreeSurfer parcellation. We only\n",
        "# show the 300 strongest connections.\n",
        "fig,ax=plot_connectivity_circle(con_res_40['wpli2_debiased'], label_names, n_lines=300,\n",
        "                         node_angles=node_angles, node_colors=label_colors, \n",
        "                         title='All-to-All Connectivity 40 Hz '\n",
        "                               'Condition (PLI)')\n",
        "fig.savefig(op.join(result_dir,'40-connectivity.png'),facecolor='black')\n",
        "fig,ax=plot_connectivity_circle(con_res_rand['wpli2_debiased'], label_names, n_lines=300,\n",
        "                         node_angles=node_angles, node_colors=label_colors, \n",
        "                         title='All-to-All Connectivity Random '\n",
        "                               'Condition (PLI)')\n",
        "fig.savefig(op.join(result_dir,'rand-connectivity.png'),facecolor='black')\n",
        "dcon_res = con_res_40['wpli2_debiased'] - con_res_rand['wpli2_debiased']\n",
        "fig,ax=plot_connectivity_circle(np.where(dcon_res<0,0,dcon_res), label_names, n_lines=300,\n",
        "                         node_angles=node_angles, node_colors=label_colors, colormap='hot', \n",
        "                         title='All-to-All Connectivity Upregulated '\n",
        "                               '(PLI)')\n",
        "fig.savefig(op.join(result_dir,'up-connectivity.png'),facecolor='black')\n",
        "fig,ax=plot_connectivity_circle(np.where(dcon_res>0,0,-1*dcon_res), label_names, n_lines=300,\n",
        "                         node_angles=node_angles, node_colors=label_colors, colormap='gray',\n",
        "                         title='All-to-All Connectivity Downregulated '\n",
        "                               '(PLI)')\n",
        "fig.savefig(op.join(result_dir,'down-connectivity.png'),facecolor='black')\n"
      ]
    },
    {
      "cell_type": "code",
      "execution_count": null,
      "metadata": {},
      "outputs": [],
      "source": [
        "stcs_40 = stcs = apply_inverse_epochs(epochs_4F, inverse_operator, lambda2, 'dSPM',\n",
        "                            pick_ori=\"normal\")\n",
        "stcs_rand = stcs = apply_inverse_epochs(epochs_RF, inverse_operator, lambda2, 'dSPM',\n",
        "                            pick_ori=\"normal\")"
      ]
    },
    {
      "cell_type": "code",
      "execution_count": null,
      "metadata": {},
      "outputs": [],
      "source": [
        "stc = stcs_40[16]\n",
        "vertno_max, time_max = stc.get_peak(hemi='lh')\n",
        "surfer_kwargs = dict(\n",
        "    hemi='lh', subjects_dir=subjects_dir,\n",
        "    clim=dict(kind='value', lims=[0, 8, 15]), views='dor',\n",
        "    initial_time=time_max, time_unit='s', size=(800, 800),backend ='matplotlib', smoothing_steps=10)\n",
        "brain = stc.plot(**surfer_kwargs)\n",
        "vertno_max, time_max = stc.get_peak(hemi='rh')\n",
        "surfer_kwargs = dict(\n",
        "    hemi='rh', subjects_dir=subjects_dir,\n",
        "    clim=dict(kind='value', lims=[0, 8, 15]), views='dor',\n",
        "    initial_time=10, time_unit='s', size=(800, 800),backend ='matplotlib', smoothing_steps=10)\n",
        "brain = stcs_40[15].plot(**surfer_kwargs)\n",
        "# brain.add_foci(vertno_max, coords_as_verts=True, hemi='lh', color='blue',\n",
        "            #    scale_factor=0.6, alpha=0.5)\n",
        "# brain.add_text(0.1, 0.9, 'dSPM (plus location of maximal activation)', 'title',\n",
        "            #    font_size=14)\n"
      ]
    },
    {
      "cell_type": "markdown",
      "metadata": {},
      "source": [
        "## Make two connectivity plots in the same figure\n",
        "\n",
        "We can also assign these connectivity plots to axes in a figure. Below we'll\n",
        "show the connectivity plot using two different connectivity methods.\n",
        "\n"
      ]
    },
    {
      "cell_type": "code",
      "execution_count": null,
      "metadata": {
        "collapsed": false
      },
      "outputs": [],
      "source": [
        "# fig = plt.figure(num=None, figsize=(8, 4), facecolor='black')\n",
        "# no_names = [''] * len(label_names)\n",
        "# for ii, method in enumerate([con_methods]):\n",
        "#     plot_connectivity_circle(con_res[method], no_names, n_lines=300,\n",
        "#                              node_angles=node_angles, node_colors=label_colors,\n",
        "#                              title=method, padding=0, fontsize_colorbar=6,\n",
        "#                              fig=fig, subplot=(1, 3, ii + 1))\n",
        "\n",
        "# plt.show()"
      ]
    },
    {
      "cell_type": "markdown",
      "metadata": {},
      "source": [
        "## Save the figure (optional)\n",
        "\n",
        "By default matplotlib does not save using the facecolor, even though this was\n",
        "set when the figure was generated. If not set via savefig, the labels, title,\n",
        "and legend will be cut off from the output png file.\n",
        "\n"
      ]
    },
    {
      "cell_type": "code",
      "execution_count": null,
      "metadata": {
        "collapsed": false
      },
      "outputs": [],
      "source": [
        "# fname_fig = data_path + '/MEG/sample/plot_inverse_connect.png'\n",
        "# fig.savefig(fname_fig, facecolor='black')"
      ]
    }
  ],
  "metadata": {
    "interpreter": {
      "hash": "e3970cf2a056ed71c6703e76baeca137440641ad1b48b7e7a1b0e3e35696df1b"
    },
    "kernelspec": {
      "display_name": "Python 3.9.5 64-bit ('mne': conda)",
      "name": "python3"
    },
    "language_info": {
      "codemirror_mode": {
        "name": "ipython",
        "version": 3
      },
      "file_extension": ".py",
      "mimetype": "text/x-python",
      "name": "python",
      "nbconvert_exporter": "python",
      "pygments_lexer": "ipython3",
      "version": "3.9.5"
    }
  },
  "nbformat": 4,
  "nbformat_minor": 0
}