{
 "cells": [
  {
   "cell_type": "code",
   "execution_count": null,
   "metadata": {},
   "outputs": [],
   "source": [
    "import os\n",
    "\n",
    "import numpy as np\n",
    "from scipy import stats as stats\n",
    "\n",
    "import mne\n",
    "from mne.epochs import equalize_epoch_counts\n",
    "from mne.stats import (spatio_temporal_cluster_1samp_test,\n",
    "                       summarize_clusters_stc)\n",
    "from mne.minimum_norm import apply_inverse, read_inverse_operator\n",
    "from mne.datasets import sample\n",
    "import pickle\n",
    "from langouEEG import *\n",
    "\n",
    "import os.path as op\n",
    "import numpy as np\n",
    "\n",
    "import mne\n",
    "from mne.datasets import eegbci\n",
    "from mne.datasets import fetch_fsaverage\n"
   ]
  },
  {
   "cell_type": "code",
   "execution_count": null,
   "metadata": {},
   "outputs": [],
   "source": [
    "# Download fsaverage files\n",
    "fs_dir = fetch_fsaverage(verbose=True)\n",
    "subjects_dir = op.dirname(fs_dir)\n",
    "\n",
    "# The files live in:\n",
    "subject = 'fsaverage'\n",
    "trans = 'fsaverage'  # MNE has a built-in fsaverage transformation\n",
    "src = op.join(fs_dir, 'bem', 'fsaverage-ico-5-src.fif')\n",
    "bem = op.join(fs_dir, 'bem', 'fsaverage-5120-5120-5120-bem-sol.fif')"
   ]
  },
  {
   "cell_type": "code",
   "execution_count": null,
   "metadata": {},
   "outputs": [],
   "source": []
  },
  {
   "cell_type": "code",
   "execution_count": null,
   "metadata": {},
   "outputs": [],
   "source": [
    "noise_cov = mne.compute_covariance(\n",
    "    epoch_4F, tmax=0., method=['shrunk', 'empirical'], rank=None, verbose=True)\n",
    "\n",
    "fig_cov, fig_spectra = mne.viz.plot_cov(noise_cov, raw.info)\n",
    "import os.path as op\n",
    "\n",
    "import numpy as np\n",
    "import matplotlib.pyplot as plt\n",
    "\n",
    "import mne\n",
    "from mne.datasets import sample\n",
    "from mne.minimum_norm import make_inverse_operator, apply_inverse\n",
    "noise_cov = mne.compute_covariance(\n",
    "    epochs, tmax=0., method=['shrunk', 'empirical'], rank=None, verbose=True)\n",
    "\n",
    "fig_cov, fig_spectra = mne.viz.plot_cov(noise_cov, raw.info)"
   ]
  },
  {
   "cell_type": "code",
   "execution_count": null,
   "metadata": {},
   "outputs": [],
   "source": []
  },
  {
   "cell_type": "code",
   "execution_count": null,
   "metadata": {},
   "outputs": [],
   "source": [
    "noise_cov = mne.compute_covariance(\n",
    "    epoch_4F, tmax=0., method=['shrunk', 'empirical'], rank=None, verbose=True)\n",
    "\n",
    "fig_cov, fig_spectra = mne.viz.plot_cov(noise_cov, raw.info)\n",
    "import os.path as op\n",
    "\n",
    "import numpy as np\n",
    "import matplotlib.pyplot as plt\n",
    "\n",
    "import mne\n",
    "from mne.datasets import sample\n",
    "from mne.minimum_norm import make_inverse_operator, apply_inverse\n",
    "noise_cov = mne.compute_covariance(\n",
    "    epochs, tmax=0., method=['shrunk', 'empirical'], rank=None, verbose=True)\n",
    "\n",
    "fig_cov, fig_spectra = mne.viz.plot_cov(noise_cov, raw.info)"
   ]
  }
 ],
 "metadata": {
  "kernelspec": {
   "display_name": "Python 3.8.10 64-bit (conda)",
   "name": "bio306"
  },
  "language_info": {
   "codemirror_mode": {
    "name": "ipython",
    "version": 3
   },
   "file_extension": ".py",
   "mimetype": "text/x-python",
   "name": "python",
   "nbconvert_exporter": "python",
   "pygments_lexer": "ipython3",
   "version": "3.9.5"
  },
  "orig_nbformat": 4
 },
 "nbformat": 4,
 "nbformat_minor": 2
}