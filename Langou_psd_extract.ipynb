{
 "cells": [
  {
   "cell_type": "code",
   "execution_count": 4,
   "source": [
    "import os\n",
    "import numpy as np\n",
    "import mne\n",
    "from matplotlib import pyplot as plt\n",
    "from matplotlib.pyplot import MultipleLocator\n",
    "import pandas as pd\n",
    "from mne.time_frequency import tfr_morlet, psd_multitaper, psd_welch\n",
    "from copy import deepcopy\n",
    "from mne.preprocessing import create_ecg_epochs, create_eog_epochs, read_ica\n",
    "import sys\n",
    "from langouEEG import *\n",
    "\n",
    "picks_list = ['O1','O2','OZ']\n",
    "pos_list = ['O']\n",
    "sub_list = [8]\n",
    "def savepsds(epoch, filename='default',fmin=30, fmax=50):\n",
    "    psd, freqs = calc_psds(epoch, fmin=fmin, fmax=fmax, n_jobs=8, type='multitaper')\n",
    "    print(np.shape(psd))\n",
    "    psd = np.mean(psd, axis=0)\n",
    "    print(np.shape(psd))\n",
    "    psd = 10. * np.log10(psd)\n",
    "    save_psd(psd, freqs, './psds/{0}.csv'.format(filename), pad=10)\n",
    "    return\n",
    "\n",
    "for j in range(0, len(pos_list)):\n",
    "    init_prog()\n",
    "    for i in sub_list:\n",
    "        if i<10:\n",
    "            subject_name='S0'+str(i)\n",
    "        else:\n",
    "            subject_name='S'+str(i)\n",
    "        print(subject_name)\n",
    "        raw,picks,picks_str = initData_clean(subject_name, picks_str=picks_list)\n",
    "        # raw.resample(100, npad=\"auto\")\n",
    "        events, event_dict=extractEvents(raw)\n",
    "        initLayout(raw)\n",
    "        epoch_RR,epoch_RF,epoch_4R,epoch_4F = extractEpochs(raw,events,picks, tmin_rest = 60,tmax_rest = 87,tmin_flick = 3,tmax_flick = 30)\n",
    "        # epoch_RR,epoch_RF,epoch_4R,epoch_4F = extractEpochs(raw,events,picks, tmin_rest = 30,tmax_rest = 120,tmin_flick = -10,tmax_flick = 30)\n",
    "        savepsds(epoch_4R, 'psd_4R')\n",
    "        savepsds(epoch_4F, 'psd_4F')\n",
    "        savepsds(epoch_RR, 'psd_RR')\n",
    "        savepsds(epoch_RF, 'psd_RF')\n"
   ],
   "outputs": [
    {
     "output_type": "stream",
     "name": "stdout",
     "text": [
      "S08\n",
      "/data/home/viscent/Light\n",
      "/data/home/viscent/Light/Light/S08 Data.cnt\n",
      "Reading 0 ... 1242249  =      0.000 ...  2484.498 secs...\n"
     ]
    },
    {
     "output_type": "stream",
     "name": "stderr",
     "text": [
      "/data/home/viscent/Light/LangouEEG/langouEEG.py:121: RuntimeWarning:   Could not parse meas date from the header. Setting to None.\n",
      "  raw = mne.io.read_raw_cnt(file_path, preload=True)\n"
     ]
    }
   ],
   "metadata": {}
  },
  {
   "cell_type": "code",
   "execution_count": null,
   "source": [],
   "outputs": [],
   "metadata": {}
  }
 ],
 "metadata": {
  "interpreter": {
   "hash": "febbadcb4c84d7c4dbb6aedcded7a764debc1849da9e7e9cc23c7a0bf2029777"
  },
  "kernelspec": {
   "display_name": "Python 3.9.6 64-bit ('langou': conda)",
   "name": "python3"
  },
  "language_info": {
   "codemirror_mode": {
    "name": "ipython",
    "version": 3
   },
   "file_extension": ".py",
   "mimetype": "text/x-python",
   "name": "python",
   "nbconvert_exporter": "python",
   "pygments_lexer": "ipython3",
   "version": "3.9.6"
  },
  "orig_nbformat": 4
 },
 "nbformat": 4,
 "nbformat_minor": 2
}