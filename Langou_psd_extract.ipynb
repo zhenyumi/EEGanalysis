{
 "cells": [
  {
   "cell_type": "code",
   "execution_count": null,
   "metadata": {},
   "outputs": [],
   "source": [
    "import os\n",
    "import numpy as np\n",
    "import mne\n",
    "from matplotlib import pyplot as plt\n",
    "from matplotlib.pyplot import MultipleLocator\n",
    "import pandas as pd\n",
    "from mne.time_frequency import tfr_morlet, psd_multitaper, psd_welch\n",
    "from copy import deepcopy\n",
    "from mne.preprocessing import create_ecg_epochs, create_eog_epochs, read_ica\n",
    "import sys\n",
    "from langouEEG import *\n",
    "\n"
   ]
  }
 ],
 "metadata": {
  "interpreter": {
   "hash": "febbadcb4c84d7c4dbb6aedcded7a764debc1849da9e7e9cc23c7a0bf2029777"
  },
  "kernelspec": {
   "display_name": "Python 3.9.6 64-bit ('langou': conda)",
   "name": "python3"
  },
  "language_info": {
   "name": "python",
   "version": ""
  },
  "orig_nbformat": 4
 },
 "nbformat": 4,
 "nbformat_minor": 2
}