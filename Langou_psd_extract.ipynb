{
 "cells": [
  {
   "cell_type": "code",
   "execution_count": 1,
   "metadata": {},
   "outputs": [
    {
     "name": "stdout",
     "output_type": "stream",
     "text": [
      "S12\n",
      "/data/home/viscent/Light\n",
      "/data/home/viscent/Light/Light/S12 Data.cnt\n",
      "Reading 0 ... 1160999  =      0.000 ...  2321.998 secs...\n"
     ]
    },
    {
     "name": "stderr",
     "output_type": "stream",
     "text": [
      "/data/home/viscent/Light/LangouEEG/langouEEG.py:121: RuntimeWarning:   Could not parse meas date from the header. Setting to None.\n",
      "  raw = mne.io.read_raw_cnt(file_path, preload=True)\n"
     ]
    },
    {
     "name": "stdout",
     "output_type": "stream",
     "text": [
      "file info:\n",
      "<Info | 9 non-empty values\n",
      " bads: 1 items (Trigger)\n",
      " ch_names: FP1, FPZ, FP2, AF3, AF4, F7, F5, F3, F1, FZ, F2, F4, F6, F8, ...\n",
      " chs: 66 EEG\n",
      " custom_ref_applied: False\n",
      " highpass: 0.0 Hz\n",
      " lowpass: 250.0 Hz\n",
      " meas_date: unspecified\n",
      " nchan: 66\n",
      " projs: []\n",
      " sfreq: 500.0 Hz\n",
      " subject_info: 5 items (dict)\n",
      ">\n",
      "channel names:\n",
      "['FP1', 'FPZ', 'FP2', 'AF3', 'AF4', 'F7', 'F5', 'F3', 'F1', 'FZ', 'F2', 'F4', 'F6', 'F8', 'FT7', 'FC5', 'FC3', 'FC1', 'FCZ', 'FC2', 'FC4', 'FC6', 'FT8', 'T7', 'C5', 'C3', 'C1', 'CZ', 'C2', 'C4', 'C6', 'T8', 'M1', 'TP7', 'CP5', 'CP3', 'CP1', 'CPZ', 'CP2', 'CP4', 'CP6', 'TP8', 'M2', 'P7', 'P5', 'P3', 'P1', 'PZ', 'P2', 'P4', 'P6', 'P8', 'PO7', 'PO5', 'PO3', 'POZ', 'PO4', 'PO6', 'PO8', 'CB1', 'O1', 'OZ', 'O2', 'CB2', 'VEO', 'Trigger']\n",
      "time period:\n",
      "1161000\n",
      "events:\n",
      "Used Annotations descriptions: ['11', '12', '8', '9']\n",
      "{'random_flicker-60s': 1, 'random_rest-300s': 2, '40Hz_rest-300s': 3, '40Hz_flicker-60s': 4}\n",
      "1 duplicate electrode labels found:\n",
      "M1/Trigger\n",
      "Plotting 66 unique labels.\n",
      "Creating RawArray with float64 data, n_channels=66, n_times=1\n",
      "    Range : 0 ... 0 =      0.000 ...     0.000 secs\n",
      "Ready.\n"
     ]
    },
    {
     "name": "stderr",
     "output_type": "stream",
     "text": [
      "/data/home/viscent/Light/LangouEEG/langouEEG.py:137: RuntimeWarning: Fiducial point nasion not found, assuming identity unknown to head transformation\n",
      "  mne.viz.plot_montage(layout)\n"
     ]
    },
    {
     "data": {
      "image/png": "[encoded data removed]",
      "text/plain": [
       "<Figure size 432x432 with 1 Axes>"
      ]
     },
     "metadata": {
      "needs_background": "light"
     },
     "output_type": "display_data"
    },
    {
     "name": "stdout",
     "output_type": "stream",
     "text": [
      "Not setting metadata\n",
      "Not setting metadata\n",
      "5 matching events found\n",
      "Applying baseline correction (mode: mean)\n",
      "0 projection items activated\n",
      "Loading data for 5 events and 13501 original time points ...\n",
      "0 bad epochs dropped\n",
      "Not setting metadata\n",
      "Not setting metadata\n",
      "5 matching events found\n",
      "Applying baseline correction (mode: mean)\n",
      "0 projection items activated\n",
      "Loading data for 5 events and 30001 original time points ...\n",
      "1 bad epochs dropped\n",
      "Not setting metadata\n",
      "Not setting metadata\n",
      "6 matching events found\n",
      "Applying baseline correction (mode: mean)\n",
      "0 projection items activated\n",
      "Loading data for 6 events and 30001 original time points ...\n",
      "0 bad epochs dropped\n",
      "Not setting metadata\n",
      "Not setting metadata\n",
      "5 matching events found\n",
      "Applying baseline correction (mode: mean)\n",
      "0 projection items activated\n",
      "Loading data for 5 events and 13501 original time points ...\n",
      "0 bad epochs dropped\n",
      "Not setting metadata\n",
      "Not setting metadata\n",
      "5 matching events found\n",
      "Applying baseline correction (mode: mean)\n",
      "0 projection items activated\n",
      "Loading data for 5 events and 13501 original time points ...\n",
      "0 bad epochs dropped\n",
      "    Using multitaper spectrum estimation with 7 DPSS windows\n",
      "(6, 3, 1200)\n",
      "    Using multitaper spectrum estimation with 7 DPSS windows\n",
      "(5, 3, 540)\n",
      "    Using multitaper spectrum estimation with 7 DPSS windows\n",
      "(4, 3, 1200)\n",
      "    Using multitaper spectrum estimation with 7 DPSS windows\n",
      "(5, 3, 540)\n"
     ]
    }
   ],
   "source": [
    "import os\n",
    "import numpy as np\n",
    "import mne\n",
    "from matplotlib import pyplot as plt\n",
    "from matplotlib.pyplot import MultipleLocator\n",
    "import pandas as pd\n",
    "from mne.time_frequency import tfr_morlet, psd_multitaper, psd_welch\n",
    "from copy import deepcopy\n",
    "from mne.preprocessing import create_ecg_epochs, create_eog_epochs, read_ica\n",
    "import sys\n",
    "from langouEEG import *\n",
    "\n",
    "picks_list = ['O1','O2','OZ']\n",
    "pos_list = ['O']\n",
    "sub_list = [12]\n",
    "def savepsds(epoch, filename='default',fmin=30, fmax=50):\n",
    "    psd, freqs = calc_psds(epoch, fmin=fmin, fmax=fmax, n_jobs=8, type='multitaper')\n",
    "    print(np.shape(psd))\n",
    "    save_psd(psd, freqs, './psds/{0}.csv'.format(filename), pad=10)\n",
    "    return\n",
    "\n",
    "for j in range(0, len(pos_list)):\n",
    "    init_prog()\n",
    "    for i in sub_list:\n",
    "        if i<10:\n",
    "            subject_name='S0'+str(i)\n",
    "        else:\n",
    "            subject_name='S'+str(i)\n",
    "        print(subject_name)\n",
    "        raw,picks,picks_str = initData_clean(subject_name, picks_str=picks_list)\n",
    "        # raw.resample(100, npad=\"auto\")\n",
    "        events, event_dict=extractEvents(raw)\n",
    "        initLayout(raw)\n",
    "        epoch_RR,epoch_RF,epoch_4R,epoch_4F = extractEpochs(raw,events,picks)\n",
    "        # epoch_RR,epoch_RF,epoch_4R,epoch_4F = extractEpochs(raw,events,picks, tmin_rest = 30,tmax_rest = 120,tmin_flick = -10,tmax_flick = 30)\n",
    "        savepsds(epoch_4R, 'psd_4R')\n",
    "        savepsds(epoch_4F, 'psd_4F')\n",
    "        savepsds(epoch_RR, 'psd_RR')\n",
    "        savepsds(epoch_RF, 'psd_RF')\n"
   ]
  },
  {
   "cell_type": "code",
   "execution_count": null,
   "metadata": {},
   "outputs": [],
   "source": []
  }
 ],
 "metadata": {
  "interpreter": {
   "hash": "febbadcb4c84d7c4dbb6aedcded7a764debc1849da9e7e9cc23c7a0bf2029777"
  },
  "kernelspec": {
   "display_name": "Python 3.9.6 64-bit ('langou': conda)",
   "name": "python3"
  },
  "language_info": {
   "codemirror_mode": {
    "name": "ipython",
    "version": 3
   },
   "file_extension": ".py",
   "mimetype": "text/x-python",
   "name": "python",
   "nbconvert_exporter": "python",
   "pygments_lexer": "ipython3",
   "version": "3.9.6"
  },
  "orig_nbformat": 4
 },
 "nbformat": 4,
 "nbformat_minor": 2
}