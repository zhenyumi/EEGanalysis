{
 "metadata": {
  "orig_nbformat": 4,
  "kernelspec": {
   "name": "mne",
   "display_name": "mne",
   "language": "python"
  }
 },
 "nbformat": 4,
 "nbformat_minor": 2,
 "cells": [
  {
   "cell_type": "code",
   "execution_count": null,
   "metadata": {},
   "outputs": [],
   "source": []
  }
 ]
}