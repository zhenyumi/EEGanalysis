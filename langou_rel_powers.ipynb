{
 "cells": [
  {
   "cell_type": "code",
   "execution_count": null,
   "source": [
    "import os.path as op\n",
    "import numpy as np\n",
    "import mne\n",
    "from matplotlib import pyplot as plt\n",
    "from matplotlib.pyplot import MultipleLocator\n",
    "import pandas as pd\n",
    "from mne.time_frequency import tfr_morlet, psd_multitaper, psd_welch\n",
    "from copy import deepcopy\n",
    "from mne.preprocessing import create_ecg_epochs, create_eog_epochs, read_ica\n",
    "import sys\n",
    "from langouEEG import *\n",
    "import pickle\n",
    "from mne.viz import plot_topomap\n",
    "\n",
    "result_dir = \"/data/home/viscent/Light/result\"\n",
    "\n",
    "init_prog()\n",
    "for i in range(1,2):\n",
    "    subject_name = i\n",
    "    if subject_name<10:\n",
    "        subject_name='S0'+str(subject_name)\n",
    "    else:\n",
    "        subject_name='S'+str(subject_name)\n",
    "    with open(dataRoot+'/clean_data_av/'+subject_name+'_clean.lgeeg','rb') as f:\n",
    "        raw=pickle.load(f)\n",
    "    raw = initLayout(raw)\n",
    "    events, event_dict=extractEvents(raw)\n",
    "    picks = mne.pick_types(raw.info, meg=False, eeg=True, stim=False, eog=False,\n",
    "                        exclude='bads')\n",
    "    epoch_RR,epoch_RF,epoch_4R,epoch_4F = extractEpochs_id(raw,events,picks, \n",
    "    tmin_rest = 60,tmax_rest = 120,tmin_flick = 3,tmax_flick = 30)\n",
    "    epochs = epoch_RR,epoch_RF,epoch_4R,epoch_4F\n",
    "\n",
    "    \n",
    "    power_all_R, power_target_R, power_all_F, power_target_F = get_allch_abs_power(epoch_4R, epoch_4F, f_bottom = .1, f_low = 39.0, f_high = 41.0, f_top = 100.0, sfreq=500.0)\n",
    "    rel_power_R, leng_R = cal_rel_power_R(power_target_R, power_all_R)\n",
    "    rel_power_F, leng_F = cal_rel_power_F(power_target_F, power_all_F)\n",
    "\n",
    "    power_all_R, power_target_R, power_all_F, power_target_F = get_allch_abs_power(epoch_RR, epoch_RF, f_bottom = .1, f_low = 39.0, f_high = 41.0, f_top = 100.0, sfreq=500.0)\n",
    "    rel_power_F_ran, leng_F = cal_rel_power_F_ran(power_target_F, power_all_F)\n",
    "    # save_rel_powers()\n",
    "\n"
   ],
   "outputs": [],
   "metadata": {}
  },
  {
   "cell_type": "code",
   "execution_count": null,
   "source": [
    "print(np.shape(power_all_R))\n",
    "print(np.shape(power_target_R))\n",
    "print(np.shape(power_all_F))\n",
    "print(np.shape(power_target_F))\n",
    "print(np.shape(rel_power_R))\n",
    "print(leng_R)\n",
    "fig, axis = plt.subplots(1, 3, dpi=300)\n",
    "\n",
    "im,cm = plot_topomap(rel_power_R, epoch_4F.info,vmax=np.max(rel_power_F), axes=axis[0], show=False)\n",
    "axis[0].set_title('Rest state',fontsize=8)\n",
    "im,cm = plot_topomap(rel_power_F_ran, epoch_4F.info,vmax=np.max(rel_power_F), axes=axis[1], show=False)\n",
    "axis[1].set_title('Random frequency flicker',fontsize=8)\n",
    "im,cm = plot_topomap(rel_power_F, epoch_4F.info,vmax=np.max(rel_power_F), axes=axis[2], show=False)\n",
    "axis[2].set_title('40 Hz light flicker',fontsize=8)\n",
    "ax_x_start = 0.95\n",
    "ax_x_width = 0.04\n",
    "ax_y_start = 0.3\n",
    "ax_y_height = 0.5\n",
    "cbar_ax = fig.add_axes([ax_x_start, ax_y_start, ax_x_width, ax_y_height])\n",
    "clb = fig.colorbar(im, cax=cbar_ax)\n",
    "clb.ax.set_title('Percent power',fontsize=8) # title on top of colorbar\n",
    "fig.savefig(result_dir + '/Percent_topomap/Percent_topomap.svg')\n",
    "fig.savefig(result_dir + '/Percent_topomap/Percent_topomap.png')"
   ],
   "outputs": [],
   "metadata": {}
  }
 ],
 "metadata": {
  "orig_nbformat": 4,
  "language_info": {
   "name": "python",
   "version": "3.9.6",
   "mimetype": "text/x-python",
   "codemirror_mode": {
    "name": "ipython",
    "version": 3
   },
   "pygments_lexer": "ipython3",
   "nbconvert_exporter": "python",
   "file_extension": ".py"
  },
  "kernelspec": {
   "name": "python3",
   "display_name": "Python 3.9.6 64-bit ('langou': conda)"
  },
  "interpreter": {
   "hash": "febbadcb4c84d7c4dbb6aedcded7a764debc1849da9e7e9cc23c7a0bf2029777"
  }
 },
 "nbformat": 4,
 "nbformat_minor": 2
}