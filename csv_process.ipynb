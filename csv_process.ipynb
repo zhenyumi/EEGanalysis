{
 "cells": [
  {
   "cell_type": "code",
   "execution_count": 47,
   "id": "aa4246fb-e527-4208-9823-0ddcafa244b4",
   "metadata": {},
   "outputs": [
    {
     "name": "stdout",
     "output_type": "stream",
     "text": [
      "C:\\MatlabWorkspace\n"
     ]
    }
   ],
   "source": [
    "import sys\n",
    "import pandas as pd\n",
    "print(sys.path[0])"
   ]
  },
  {
   "cell_type": "code",
   "execution_count": 48,
   "id": "670e9807-0688-4afb-9ad1-b156f13752ac",
   "metadata": {},
   "outputs": [],
   "source": [
    "def csv_transformat(filefolder = sys.path[0] + '\\\\Light', type='flicker'):\n",
    "    filefolder = sys.path[0] + '\\\\Light'\n",
    "    df=pd.read_csv(filefolder + '\\\\ratios_{0}.csv'.format(type))\n",
    "    shape = df.shape\n",
    "    print(shape)\n",
    "    rows = shape[0]\n",
    "    column = shape[1]\n",
    "    col_names = df.columns.values.tolist()\n",
    "    ratios = []\n",
    "    labels = []\n",
    "    print(col_names)\n",
    "    for i in range(1, column):\n",
    "        ratio = df.iloc[0:rows,i].tolist()\n",
    "        type_label = [col_names[i]] * len(ratio)\n",
    "        ratios += ratio\n",
    "        labels += type_label\n",
    "    save = pd.DataFrame()\n",
    "    save['ratios'] = ratios\n",
    "    save['labels'] = labels\n",
    "    save.to_csv(filefolder + '\\\\ratios_{0}_all.csv'.format(type))\n",
    "    return"
   ]
  },
  {
   "cell_type": "code",
   "execution_count": 49,
   "id": "5f2e6f6c-7c79-45a1-94ed-cc0f1879743d",
   "metadata": {},
   "outputs": [
    {
     "name": "stdout",
     "output_type": "stream",
     "text": [
      "(39, 4)\n",
      "['Unnamed: 0', 'ratio_TD', 'ratio_TU', 'ratio_DU']\n",
      "(34, 4)\n",
      "['Unnamed: 0', 'ratio_TD', 'ratio_TU', 'ratio_DU']\n"
     ]
    }
   ],
   "source": [
    "csv_transformat(type='flicker')\n",
    "csv_transformat(type='rest')"
   ]
  }
 ],
 "metadata": {
  "kernelspec": {
   "display_name": "mne",
   "language": "python",
   "name": "mne"
  },
  "language_info": {
   "codemirror_mode": {
    "name": "ipython",
    "version": 3
   },
   "file_extension": ".py",
   "mimetype": "text/x-python",
   "name": "python",
   "nbconvert_exporter": "python",
   "pygments_lexer": "ipython3",
   "version": "3.9.4"
  }
 },
 "nbformat": 4,
 "nbformat_minor": 5
}
